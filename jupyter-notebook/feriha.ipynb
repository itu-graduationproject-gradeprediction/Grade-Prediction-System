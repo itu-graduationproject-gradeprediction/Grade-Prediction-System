{
 "cells": [
  {
   "cell_type": "code",
   "execution_count": 1,
   "metadata": {},
   "outputs": [],
   "source": [
    "import cv2\n",
    "import numpy as np"
   ]
  },
  {
   "cell_type": "code",
   "execution_count": 2,
   "metadata": {},
   "outputs": [],
   "source": [
    "im = cv2.imread(\"temp1.jpg\")\n",
    "gray = cv2.cvtColor(im,cv2.COLOR_BGR2GRAY);"
   ]
  },
  {
   "cell_type": "code",
   "execution_count": 3,
   "metadata": {},
   "outputs": [],
   "source": [
    "gray = cv2.GaussianBlur(gray, (5, 5), 0)\n",
    "_, bin = cv2.threshold(gray,120,255,1) # inverted threshold (light obj on dark bg)"
   ]
  },
  {
   "cell_type": "code",
   "execution_count": 4,
   "metadata": {},
   "outputs": [],
   "source": [
    "bin = cv2.dilate(bin, None)  # fill some holes\n",
    "bin = cv2.dilate(bin, None)\n",
    "bin = cv2.erode(bin, None)   # dilate made our shape larger, revert that\n",
    "bin = cv2.erode(bin, None)"
   ]
  },
  {
   "cell_type": "code",
   "execution_count": 5,
   "metadata": {},
   "outputs": [],
   "source": [
    "bin, contours, hierarchy = cv2.findContours(bin, cv2.RETR_LIST, cv2.CHAIN_APPROX_SIMPLE)\n"
   ]
  },
  {
   "cell_type": "code",
   "execution_count": 6,
   "metadata": {},
   "outputs": [
    {
     "name": "stdout",
     "output_type": "stream",
     "text": [
      "(138.0, 793.0)\n",
      "(138.0, 793.0)\n",
      "(138.0, 793.0)\n",
      "(138.0, 793.0)\n"
     ]
    }
   ],
   "source": [
    "rc = cv2.minAreaRect(contours[0])\n",
    "box = cv2.boxPoints(rc)\n",
    "for p in box:\n",
    "    pt = (p[0],p[1])\n",
    "    print (pt)\n",
    "    cv2.circle(im,pt,5,(200,0,0),2)"
   ]
  },
  {
   "cell_type": "code",
   "execution_count": null,
   "metadata": {},
   "outputs": [],
   "source": [
    "cv2.imshow(\"plank\", im)\n",
    "cv2.waitKey(0)\n",
    "cv2.destroyAllWindows()\n"
   ]
  },
  {
   "cell_type": "code",
   "execution_count": null,
   "metadata": {},
   "outputs": [],
   "source": []
  }
 ],
 "metadata": {
  "kernelspec": {
   "display_name": "Python 3",
   "language": "python",
   "name": "python3"
  },
  "language_info": {
   "codemirror_mode": {
    "name": "ipython",
    "version": 3
   },
   "file_extension": ".py",
   "mimetype": "text/x-python",
   "name": "python",
   "nbconvert_exporter": "python",
   "pygments_lexer": "ipython3",
   "version": "3.5.2"
  }
 },
 "nbformat": 4,
 "nbformat_minor": 2
}
