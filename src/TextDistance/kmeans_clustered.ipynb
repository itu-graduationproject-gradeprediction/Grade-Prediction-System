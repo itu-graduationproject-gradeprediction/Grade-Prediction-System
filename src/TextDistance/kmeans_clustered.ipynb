{
 "cells": [
  {
   "cell_type": "code",
   "execution_count": 1,
   "metadata": {
    "scrolled": true
   },
   "outputs": [],
   "source": [
    "import pandas as pd\n",
    "import sys\n",
    "from TextDistance import TextDistance as textd\n",
    "import numpy as np\n",
    "from sklearn.decomposition import PCA\n",
    "from sklearn.cluster import KMeans\n",
    "import matplotlib.pyplot as plt"
   ]
  },
  {
   "cell_type": "code",
   "execution_count": 2,
   "metadata": {
    "scrolled": true
   },
   "outputs": [],
   "source": [
    "ref = \"I tested all test data with the trained model’s output formula which can be seen below. Output = 1/(1 + e-(weight1*feature1 + weight2*feature2 + bias)) My success criteria is if one test data’s label is 1, it’s output must be equal or bigger than 0.5 and if one test data’s label is 0, it’s output must be smaller than 0.5.\""
   ]
  },
  {
   "cell_type": "code",
   "execution_count": 3,
   "metadata": {
    "scrolled": true
   },
   "outputs": [],
   "source": [
    "data_1 = pd.read_csv(\"full.csv\", delimiter=\";\")\n",
    "feature_df_1 = textd.constructTrainingData(data_1[\"answer\"][1:], ref)"
   ]
  },
  {
   "cell_type": "code",
   "execution_count": 4,
   "metadata": {
    "scrolled": true
   },
   "outputs": [],
   "source": [
    "feature_df = feature_df_1\n",
    "training = feature_df.to_numpy()[:,2:].astype(float)"
   ]
  },
  {
   "cell_type": "code",
   "execution_count": 5,
   "metadata": {
    "scrolled": true
   },
   "outputs": [],
   "source": [
    "pca = PCA(n_components=7)\n",
    "training_data = pca.fit_transform(training)"
   ]
  },
  {
   "cell_type": "code",
   "execution_count": 6,
   "metadata": {},
   "outputs": [
    {
     "name": "stdout",
     "output_type": "stream",
     "text": [
      "(71, 7)\n"
     ]
    }
   ],
   "source": [
    "print(training_data.shape)"
   ]
  },
  {
   "cell_type": "code",
   "execution_count": null,
   "metadata": {},
   "outputs": [],
   "source": [
    "kmeans = KMeans(n_clusters=5)\n",
    "y_km = kmeans.fit_predict(training_data)"
   ]
  },
  {
   "cell_type": "code",
   "execution_count": null,
   "metadata": {},
   "outputs": [],
   "source": [
    "y_km"
   ]
  },
  {
   "cell_type": "code",
   "execution_count": null,
   "metadata": {},
   "outputs": [],
   "source": [
    "colormap = {0:\"m\",1: \"r\", 2:\"b\", 3:\"g\", 4:\"c\"}\n",
    "datamap = {0: [], 1: [], 2: [], 3:[], 4:[]}\n",
    "for index, y in enumerate(y_km):\n",
    "    datamap[y].append(index)\n",
    "print(datamap)"
   ]
  },
  {
   "cell_type": "code",
   "execution_count": null,
   "metadata": {},
   "outputs": [],
   "source": [
    "colormap = {0:\"m\",1: \"r\", 2:\"b\", 3:\"g\", 4:\"c\"}\n",
    "for i in datamap:\n",
    "    plt.scatter(datamap[i], [i] * len(datamap[i]), c=colormap[i])\n",
    "plt.show()"
   ]
  }
 ],
 "metadata": {
  "kernelspec": {
   "display_name": "Python 3",
   "language": "python",
   "name": "python3"
  },
  "language_info": {
   "codemirror_mode": {
    "name": "ipython",
    "version": 3
   },
   "file_extension": ".py",
   "mimetype": "text/x-python",
   "name": "python",
   "nbconvert_exporter": "python",
   "pygments_lexer": "ipython3",
   "version": "3.6.8"
  }
 },
 "nbformat": 4,
 "nbformat_minor": 2
}
